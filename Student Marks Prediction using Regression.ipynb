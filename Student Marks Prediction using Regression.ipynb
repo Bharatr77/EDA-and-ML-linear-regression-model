{
 "cells": [
  {
   "cell_type": "code",
   "execution_count": 1,
   "id": "a9d8b633",
   "metadata": {},
   "outputs": [],
   "source": [
    "import numpy as np\n",
    "import pandas as pd\n",
    "import matplotlib.pyplot as plt\n",
    "import seaborn as sns\n",
    "import warnings\n",
    "warnings.filterwarnings('ignore')"
   ]
  },
  {
   "cell_type": "code",
   "execution_count": 3,
   "id": "574a962f",
   "metadata": {},
   "outputs": [
    {
     "data": {
      "text/html": [
       "<div>\n",
       "<style scoped>\n",
       "    .dataframe tbody tr th:only-of-type {\n",
       "        vertical-align: middle;\n",
       "    }\n",
       "\n",
       "    .dataframe tbody tr th {\n",
       "        vertical-align: top;\n",
       "    }\n",
       "\n",
       "    .dataframe thead th {\n",
       "        text-align: right;\n",
       "    }\n",
       "</style>\n",
       "<table border=\"1\" class=\"dataframe\">\n",
       "  <thead>\n",
       "    <tr style=\"text-align: right;\">\n",
       "      <th></th>\n",
       "      <th>number_courses</th>\n",
       "      <th>time_study</th>\n",
       "      <th>Marks</th>\n",
       "    </tr>\n",
       "  </thead>\n",
       "  <tbody>\n",
       "    <tr>\n",
       "      <th>0</th>\n",
       "      <td>3</td>\n",
       "      <td>4.508</td>\n",
       "      <td>19.202</td>\n",
       "    </tr>\n",
       "    <tr>\n",
       "      <th>1</th>\n",
       "      <td>4</td>\n",
       "      <td>0.096</td>\n",
       "      <td>7.734</td>\n",
       "    </tr>\n",
       "    <tr>\n",
       "      <th>2</th>\n",
       "      <td>4</td>\n",
       "      <td>3.133</td>\n",
       "      <td>13.811</td>\n",
       "    </tr>\n",
       "    <tr>\n",
       "      <th>3</th>\n",
       "      <td>6</td>\n",
       "      <td>7.909</td>\n",
       "      <td>53.018</td>\n",
       "    </tr>\n",
       "    <tr>\n",
       "      <th>4</th>\n",
       "      <td>8</td>\n",
       "      <td>7.811</td>\n",
       "      <td>55.299</td>\n",
       "    </tr>\n",
       "  </tbody>\n",
       "</table>\n",
       "</div>"
      ],
      "text/plain": [
       "   number_courses  time_study   Marks\n",
       "0               3       4.508  19.202\n",
       "1               4       0.096   7.734\n",
       "2               4       3.133  13.811\n",
       "3               6       7.909  53.018\n",
       "4               8       7.811  55.299"
      ]
     },
     "execution_count": 3,
     "metadata": {},
     "output_type": "execute_result"
    }
   ],
   "source": [
    "data = pd.read_csv('Student_Marks.csv')\n",
    "data.head()"
   ]
  },
  {
   "cell_type": "markdown",
   "id": "72cc25ce",
   "metadata": {},
   "source": [
    "* So there are only three columns in the dataset. The marks column is the target column as we have to predict the marks of a student.\n",
    "\n",
    "* Now before moving forward, let’s have a look at whether this dataset contains any null values or not:"
   ]
  },
  {
   "cell_type": "code",
   "execution_count": 4,
   "id": "b3a2ec63",
   "metadata": {},
   "outputs": [
    {
     "data": {
      "text/plain": [
       "number_courses    0\n",
       "time_study        0\n",
       "Marks             0\n",
       "dtype: int64"
      ]
     },
     "execution_count": 4,
     "metadata": {},
     "output_type": "execute_result"
    }
   ],
   "source": [
    "## missing values \n",
    "\n",
    "data.isnull().sum()"
   ]
  },
  {
   "cell_type": "markdown",
   "id": "e22f5d78",
   "metadata": {},
   "source": [
    "* The dataset is ready to use because there are no null values in the data. There is a column in the data containing information about the number of courses students have chosen. Let’s look at the number of values of all values of this column:\n",
    "\n"
   ]
  },
  {
   "cell_type": "code",
   "execution_count": 5,
   "id": "f48d2265",
   "metadata": {},
   "outputs": [
    {
     "data": {
      "text/plain": [
       "number_courses\n",
       "3    22\n",
       "4    21\n",
       "6    16\n",
       "8    16\n",
       "7    15\n",
       "5    10\n",
       "Name: count, dtype: int64"
      ]
     },
     "execution_count": 5,
     "metadata": {},
     "output_type": "execute_result"
    }
   ],
   "source": [
    "data[\"number_courses\"].value_counts()"
   ]
  },
  {
   "cell_type": "markdown",
   "id": "fa08f810",
   "metadata": {},
   "source": [
    "* So there are a minimum of three and a maximum of eight courses students have chosen. Let’s have a look at a scatter plot to see whether the number of courses affects the marks of a student:\n"
   ]
  },
  {
   "cell_type": "code",
   "execution_count": 18,
   "id": "c7b2b04e",
   "metadata": {},
   "outputs": [
    {
     "data": {
      "image/png": "[encoded data removed]",
      "text/plain": [
       "<Figure size 640x480 with 1 Axes>"
      ]
     },
     "metadata": {},
     "output_type": "display_data"
    }
   ],
   "source": [
    "plt.scatter(data=data, x = \"number_courses\", \n",
    "                    y = \"Marks\") \n",
    "plt.title(\"Number of Courses and Marks Scored\")\n",
    "plt.xlabel('number_courses')\n",
    "plt.ylabel('marks')\n",
    "plt.show()"
   ]
  },
  {
   "cell_type": "markdown",
   "id": "56cd7a66",
   "metadata": {},
   "source": [
    "* According to the above data visualization, we can say that the number of courses may not affect the marks of a student if the student is studying for more time daily. So let’s have a look at the relationship between the time a studied daily and the marks scored by the student:"
   ]
  },
  {
   "cell_type": "code",
   "execution_count": 20,
   "id": "b105345b",
   "metadata": {},
   "outputs": [
    {
     "data": {
      "image/png": "[encoded data removed]",
      "text/plain": [
       "<Figure size 640x480 with 1 Axes>"
      ]
     },
     "metadata": {},
     "output_type": "display_data"
    }
   ],
   "source": [
    "plt.scatter(data=data, x = \"time_study\", \n",
    "                    y = \"Marks\") \n",
    "plt.title(\"Number of Courses and Marks Scored\")\n",
    "plt.xlabel('time_study')\n",
    "plt.ylabel('marks')\n",
    "plt.show()"
   ]
  },
  {
   "cell_type": "markdown",
   "id": "3f0fc8c0",
   "metadata": {},
   "source": [
    "* You can see that there is a linear relationship between the time studied and the marks obtained. This means the more time students spend studying, the better they can score.\n",
    "\n",
    "Now let’s have a look at the correlation between the marks scored by the students and the other two columns in the data:"
   ]
  },
  {
   "cell_type": "code",
   "execution_count": 21,
   "id": "7acb9f5b",
   "metadata": {},
   "outputs": [
    {
     "name": "stdout",
     "output_type": "stream",
     "text": [
      "Marks             1.000000\n",
      "time_study        0.942254\n",
      "number_courses    0.417335\n",
      "Name: Marks, dtype: float64\n"
     ]
    }
   ],
   "source": [
    "correlation = data.corr()\n",
    "print(correlation[\"Marks\"].sort_values(ascending=False))"
   ]
  },
  {
   "cell_type": "markdown",
   "id": "33abfbf1",
   "metadata": {},
   "source": [
    "* So the time_studied column is more correlated with the marks column than the other column.\n",
    "\n"
   ]
  },
  {
   "cell_type": "markdown",
   "id": "1ac58ec3",
   "metadata": {},
   "source": [
    "## Student Marks Prediction Model\n",
    "* Now let’s move to the task of training a machine learning model for predicting the marks of a student. Here, I will first start by splitting the data into training and test sets:"
   ]
  },
  {
   "cell_type": "code",
   "execution_count": 27,
   "id": "ce395a0c",
   "metadata": {},
   "outputs": [],
   "source": [
    "# import libraries\n",
    "from sklearn.linear_model import LinearRegression\n",
    "from sklearn.model_selection import train_test_split"
   ]
  },
  {
   "cell_type": "code",
   "execution_count": 24,
   "id": "4a3538cb",
   "metadata": {},
   "outputs": [],
   "source": [
    "x=data.drop(columns=['Marks'])\n",
    "y=data['Marks']\n",
    "\n",
    "xtrain,xtest,ytrain,ytest = train_test_split(x,y,test_size=0.3,random_state=10)"
   ]
  },
  {
   "cell_type": "markdown",
   "id": "6582f36b",
   "metadata": {},
   "source": [
    " * Now I will train a machine learning model using the linear regression algorithm:\n"
   ]
  },
  {
   "cell_type": "code",
   "execution_count": 28,
   "id": "050859de",
   "metadata": {},
   "outputs": [
    {
     "data": {
      "text/plain": [
       "0.9417787508612494"
      ]
     },
     "execution_count": 28,
     "metadata": {},
     "output_type": "execute_result"
    }
   ],
   "source": [
    "model = LinearRegression()\n",
    "\n",
    "model.fit(xtrain, ytrain)\n",
    "\n",
    "model.score(xtest, ytest)"
   ]
  },
  {
   "cell_type": "markdown",
   "id": "f4a3c5c0",
   "metadata": {},
   "source": [
    "* Now let’s test the performance of this machine learning model by giving inputs based on the features we have used to train the model and predict the marks of a student:\n",
    "\n"
   ]
  },
  {
   "cell_type": "code",
   "execution_count": 35,
   "id": "556899fe",
   "metadata": {},
   "outputs": [
    {
     "data": {
      "text/plain": [
       "array([50.36484423])"
      ]
     },
     "execution_count": 35,
     "metadata": {},
     "output_type": "execute_result"
    }
   ],
   "source": [
    "# Features = [[\"time_study\", \"number_courses\"]]\n",
    "\n",
    "features = np.array([[7.811, 8]])\n",
    "\n",
    "model.predict(features)"
   ]
  },
  {
   "cell_type": "markdown",
   "id": "25631551",
   "metadata": {},
   "source": [
    "* So this is how we can predict the marks of a student with machine learning using Python.\n",
    "\n"
   ]
  },
  {
   "cell_type": "code",
   "execution_count": null,
   "id": "2682cbf8",
   "metadata": {},
   "outputs": [],
   "source": []
  }
 ],
 "metadata": {
  "kernelspec": {
   "display_name": "Python 3 (ipykernel)",
   "language": "python",
   "name": "python3"
  },
  "language_info": {
   "codemirror_mode": {
    "name": "ipython",
    "version": 3
   },
   "file_extension": ".py",
   "mimetype": "text/x-python",
   "name": "python",
   "nbconvert_exporter": "python",
   "pygments_lexer": "ipython3",
   "version": "3.11.5"
  }
 },
 "nbformat": 4,
 "nbformat_minor": 5
}
